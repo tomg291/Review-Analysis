{
 "cells": [
  {
   "cell_type": "code",
   "execution_count": 20,
   "id": "85107c98",
   "metadata": {},
   "outputs": [],
   "source": [
    "import json \n",
    "import numpy as np\n",
    "import pandas as pd\n",
    "import seaborn as sns"
   ]
  },
  {
   "cell_type": "code",
   "execution_count": 9,
   "id": "ddfd0d4b",
   "metadata": {},
   "outputs": [
    {
     "data": {
      "text/html": [
       "<div>\n",
       "<style scoped>\n",
       "    .dataframe tbody tr th:only-of-type {\n",
       "        vertical-align: middle;\n",
       "    }\n",
       "\n",
       "    .dataframe tbody tr th {\n",
       "        vertical-align: top;\n",
       "    }\n",
       "\n",
       "    .dataframe thead th {\n",
       "        text-align: right;\n",
       "    }\n",
       "</style>\n",
       "<table border=\"1\" class=\"dataframe\">\n",
       "  <thead>\n",
       "    <tr style=\"text-align: right;\">\n",
       "      <th></th>\n",
       "      <th>reviewerID</th>\n",
       "      <th>asin</th>\n",
       "      <th>reviewerName</th>\n",
       "      <th>helpful</th>\n",
       "      <th>reviewText</th>\n",
       "      <th>overall</th>\n",
       "      <th>summary</th>\n",
       "      <th>unixReviewTime</th>\n",
       "      <th>reviewTime</th>\n",
       "    </tr>\n",
       "  </thead>\n",
       "  <tbody>\n",
       "    <tr>\n",
       "      <th>0</th>\n",
       "      <td>A30TL5EWN6DFXT</td>\n",
       "      <td>120401325X</td>\n",
       "      <td>christina</td>\n",
       "      <td>[0, 0]</td>\n",
       "      <td>They look good and stick good! I just don't li...</td>\n",
       "      <td>4.0</td>\n",
       "      <td>Looks Good</td>\n",
       "      <td>1400630400</td>\n",
       "      <td>05 21, 2014</td>\n",
       "    </tr>\n",
       "    <tr>\n",
       "      <th>1</th>\n",
       "      <td>ASY55RVNIL0UD</td>\n",
       "      <td>120401325X</td>\n",
       "      <td>emily l.</td>\n",
       "      <td>[0, 0]</td>\n",
       "      <td>These stickers work like the review says they ...</td>\n",
       "      <td>5.0</td>\n",
       "      <td>Really great product.</td>\n",
       "      <td>1389657600</td>\n",
       "      <td>01 14, 2014</td>\n",
       "    </tr>\n",
       "    <tr>\n",
       "      <th>2</th>\n",
       "      <td>A2TMXE2AFO7ONB</td>\n",
       "      <td>120401325X</td>\n",
       "      <td>Erica</td>\n",
       "      <td>[0, 0]</td>\n",
       "      <td>These are awesome and make my phone look so st...</td>\n",
       "      <td>5.0</td>\n",
       "      <td>LOVE LOVE LOVE</td>\n",
       "      <td>1403740800</td>\n",
       "      <td>06 26, 2014</td>\n",
       "    </tr>\n",
       "    <tr>\n",
       "      <th>3</th>\n",
       "      <td>AWJ0WZQYMYFQ4</td>\n",
       "      <td>120401325X</td>\n",
       "      <td>JM</td>\n",
       "      <td>[4, 4]</td>\n",
       "      <td>Item arrived in great time and was in perfect ...</td>\n",
       "      <td>4.0</td>\n",
       "      <td>Cute!</td>\n",
       "      <td>1382313600</td>\n",
       "      <td>10 21, 2013</td>\n",
       "    </tr>\n",
       "    <tr>\n",
       "      <th>4</th>\n",
       "      <td>ATX7CZYFXI1KW</td>\n",
       "      <td>120401325X</td>\n",
       "      <td>patrice m rogoza</td>\n",
       "      <td>[2, 3]</td>\n",
       "      <td>awesome! stays on, and looks great. can be use...</td>\n",
       "      <td>5.0</td>\n",
       "      <td>leopard home button sticker for iphone 4s</td>\n",
       "      <td>1359849600</td>\n",
       "      <td>02 3, 2013</td>\n",
       "    </tr>\n",
       "  </tbody>\n",
       "</table>\n",
       "</div>"
      ],
      "text/plain": [
       "       reviewerID        asin      reviewerName helpful  \\\n",
       "0  A30TL5EWN6DFXT  120401325X         christina  [0, 0]   \n",
       "1   ASY55RVNIL0UD  120401325X          emily l.  [0, 0]   \n",
       "2  A2TMXE2AFO7ONB  120401325X             Erica  [0, 0]   \n",
       "3   AWJ0WZQYMYFQ4  120401325X                JM  [4, 4]   \n",
       "4   ATX7CZYFXI1KW  120401325X  patrice m rogoza  [2, 3]   \n",
       "\n",
       "                                          reviewText  overall  \\\n",
       "0  They look good and stick good! I just don't li...      4.0   \n",
       "1  These stickers work like the review says they ...      5.0   \n",
       "2  These are awesome and make my phone look so st...      5.0   \n",
       "3  Item arrived in great time and was in perfect ...      4.0   \n",
       "4  awesome! stays on, and looks great. can be use...      5.0   \n",
       "\n",
       "                                     summary  unixReviewTime   reviewTime  \n",
       "0                                 Looks Good      1400630400  05 21, 2014  \n",
       "1                      Really great product.      1389657600  01 14, 2014  \n",
       "2                             LOVE LOVE LOVE      1403740800  06 26, 2014  \n",
       "3                                      Cute!      1382313600  10 21, 2013  \n",
       "4  leopard home button sticker for iphone 4s      1359849600   02 3, 2013  "
      ]
     },
     "execution_count": 9,
     "metadata": {},
     "output_type": "execute_result"
    }
   ],
   "source": [
    "with open('Cell_Phones_and_Accessories_5.json', 'r') as file:\n",
    "    data = [json.loads(line) for line in file]\n",
    "\n",
    "norm_data = pd.json_normalize(data)\n",
    "df = pd.DataFrame(norm_data)\n",
    "df.head()"
   ]
  },
  {
   "cell_type": "code",
   "execution_count": 29,
   "id": "77739ccc",
   "metadata": {},
   "outputs": [
    {
     "name": "stdout",
     "output_type": "stream",
     "text": [
      "194439 reviews\n",
      "10429 unique products\n",
      "27879 unique reviewers\n"
     ]
    }
   ],
   "source": [
    "print(f\"{df.shape[0]} reviews\")\n",
    "print(f\"{df[\"asin\"].nunique()} unique products\")\n",
    "print(f\"{df['reviewerID'].nunique()} unique reviewers\")"
   ]
  },
  {
   "cell_type": "code",
   "execution_count": null,
   "id": "9413e429",
   "metadata": {},
   "outputs": [
    {
     "name": "stdout",
     "output_type": "stream",
     "text": [
      "asin\n",
      "B005SUHPO6    837\n",
      "B0042FV2SI    694\n",
      "B008OHNZI0    657\n",
      "B009RXU59C    636\n",
      "B000S5Q9CA    628\n",
      "Name: count, dtype: int64\n",
      "asin\n",
      "B00LH1QQH2    5\n",
      "B000056PYW    5\n",
      "B00001W0ET    5\n",
      "9983798883    5\n",
      "B00KJ0QV9K    5\n",
      "Name: count, dtype: int64\n",
      "reviewerID\n",
      "A2NYK9KWFMJV4Y    152\n",
      "A1EVV74UQYVKRY    138\n",
      "A22CW0ZHY3NJH8    138\n",
      "A1ODOGXEYECQQ8    134\n",
      "A2NOW4U7W3F7RI    132\n",
      "Name: count, dtype: int64\n",
      "reviewerID\n",
      "A1ORQPX3LA1WV5    5\n",
      "A2U5NF3IH4YVKH    5\n",
      "A2044GMMSXXXEF    5\n",
      "AP5NLK40Y9AG6     5\n",
      "A4N8QJCW9EY1A     5\n",
      "Name: count, dtype: int64\n"
     ]
    }
   ],
   "source": [
    "print(df[\"asin\"].value_counts())\n",
    "print(df[\"reviewerID\"].value_counts())"
   ]
  },
  {
   "cell_type": "markdown",
   "id": "c8f7c604",
   "metadata": {},
   "source": [
    "We can see here that the dataset has only considered reviewers with a minimum of 5 reviews written, and products with a minimum of 5 reviews recieved. The below cell shows all the reviews submitted by user \"A4N8QJCW9EY1A\""
   ]
  },
  {
   "cell_type": "code",
   "execution_count": 27,
   "id": "d2a5da7a",
   "metadata": {},
   "outputs": [
    {
     "name": "stdout",
     "output_type": "stream",
     "text": [
      "186013    I don't use apple products, so when someone wi...\n",
      "190481    Adoption of the USB standard for chargers has ...\n",
      "193880    I use my laptop or desktop to charge most devi...\n",
      "194066    My truck already has three 12 volt sockets (on...\n",
      "194099    After using this for about a week, I can't thi...\n",
      "Name: reviewText, dtype: object\n"
     ]
    }
   ],
   "source": [
    "print(df.loc[df[\"reviewerID\"] == \"A4N8QJCW9EY1A\"] [\"reviewText\"])"
   ]
  },
  {
   "cell_type": "markdown",
   "id": "d78a276c",
   "metadata": {},
   "source": [
    "My next goal will be to get 100 reviews of a specific product and identify key aspects that are commonly mentioned in reviews. I will use product \"B005SUHPO6\" since it is the most reviewed in the dataset. "
   ]
  },
  {
   "cell_type": "code",
   "execution_count": null,
   "id": "a2405815",
   "metadata": {},
   "outputs": [
    {
     "name": "stdout",
     "output_type": "stream",
     "text": [
      "0     excellent product at 1/2 the price as sale at ...\n",
      "1     Sometimes the flap over the charging place is ...\n",
      "2     Great case.  Fits like every other Otterbox De...\n",
      "3     Use these for our technicians and anyone that ...\n",
      "4     It's very strong and protects my 4S phone! I t...\n",
      "                            ...                        \n",
      "95    I didn't buy this case until after I cracked m...\n",
      "96    Not much to say.  It's a hard case with screen...\n",
      "97    A must have to protect your iphone.  I will sa...\n",
      "98    This phone case was purchased for my wife's ne...\n",
      "99    This case most certainly protects the phone. I...\n",
      "Name: reviewText, Length: 100, dtype: object\n"
     ]
    }
   ],
   "source": [
    "df_filtered = df[df[\"asin\"] == \"B005SUHPO6\"][:100].reset_index()\n",
    "df_filtered_reviews = df_filtered[\"reviewText\"]\n",
    "print(df_filtered_reviews)\n",
    "aspects = [\"\"]"
   ]
  }
 ],
 "metadata": {
  "kernelspec": {
   "display_name": "Python 3",
   "language": "python",
   "name": "python3"
  },
  "language_info": {
   "codemirror_mode": {
    "name": "ipython",
    "version": 3
   },
   "file_extension": ".py",
   "mimetype": "text/x-python",
   "name": "python",
   "nbconvert_exporter": "python",
   "pygments_lexer": "ipython3",
   "version": "3.12.4"
  }
 },
 "nbformat": 4,
 "nbformat_minor": 5
}
